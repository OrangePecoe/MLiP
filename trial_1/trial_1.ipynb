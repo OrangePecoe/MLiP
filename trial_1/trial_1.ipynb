// trial_1.ipynb
// first simple try using a kaggle notebook
